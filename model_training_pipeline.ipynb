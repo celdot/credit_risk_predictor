{
 "cells": [
  {
   "cell_type": "code",
   "execution_count": 34,
   "id": "09a2c811",
   "metadata": {},
   "outputs": [],
   "source": [
    "import pandas as pd\n",
    "from sklearn.metrics import confusion_matrix\n",
    "from sklearn.model_selection import train_test_split\n",
    "# packages for hyperparameters tuning\n",
    "from sklearn.model_selection import GridSearchCV\n",
    "import matplotlib.pyplot as plt\n",
    "import seaborn as sns\n",
    "\n",
    "from sklearn.linear_model import LogisticRegression, SGDClassifier\n",
    "from sklearn.tree import DecisionTreeClassifier\n",
    "from sklearn.svm import SVC\n",
    "from sklearn.neighbors import KNeighborsClassifier\n",
    "from sklearn.naive_bayes import GaussianNB\n",
    "from sklearn.ensemble import AdaBoostClassifier\n",
    "from sklearn.ensemble import GradientBoostingClassifier\n",
    "from sklearn.ensemble import RandomForestClassifier\n",
    "from xgboost import XGBClassifier\n",
    "from lightgbm import LGBMClassifier\n",
    "from catboost import CatBoostClassifier\n",
    "from sklearn.metrics import classification_report, accuracy_score, f1_score, precision_score, recall_score\n",
    "from sklearn.preprocessing import StandardScaler, MinMaxScaler\n",
    "from tqdm import tqdm\n",
    "\n",
    "import os\n",
    "import numpy as np\n",
    "\n",
    "import joblib"
   ]
  },
  {
   "cell_type": "code",
   "execution_count": 35,
   "id": "84c1732e",
   "metadata": {},
   "outputs": [],
   "source": [
    "dataset = pd.read_csv(\"data/credit_risk_data_processed.csv\")"
   ]
  },
  {
   "cell_type": "code",
   "execution_count": 36,
   "id": "cd3e8c00",
   "metadata": {},
   "outputs": [],
   "source": [
    "def log_transform(df, columns):\n",
    "    df_log = df.copy()\n",
    "    for col in columns:\n",
    "        df_log[col] = np.log1p(df[col])\n",
    "    return df_log"
   ]
  },
  {
   "cell_type": "code",
   "execution_count": 37,
   "id": "32eecc6c",
   "metadata": {},
   "outputs": [],
   "source": [
    "scaler = StandardScaler()"
   ]
  },
  {
   "cell_type": "code",
   "execution_count": 38,
   "id": "c70bf1f5",
   "metadata": {},
   "outputs": [],
   "source": [
    "# Standardize the data\n",
    "def standardize_data(X):\n",
    "    data = X.copy()\n",
    "    num_features = data.select_dtypes(include=['int64', 'float64']).columns\n",
    "    data = log_transform(data, num_features)\n",
    "    data[num_features] = scaler.fit_transform(data[num_features])\n",
    "    return data"
   ]
  },
  {
   "cell_type": "code",
   "execution_count": 39,
   "id": "45d7347f",
   "metadata": {},
   "outputs": [],
   "source": [
    "X = dataset.drop(columns=['default', 'id'])\n",
    "X = standardize_data(X)\n",
    "y = dataset['default']"
   ]
  },
  {
   "cell_type": "code",
   "execution_count": 40,
   "id": "04c64cce",
   "metadata": {},
   "outputs": [],
   "source": [
    "# Split the dataset into training and testing sets\n",
    "X_train_val, X_test, y_train_val, y_test = train_test_split(X, y, test_size=0.1, random_state=42)\n",
    "X_train, X_val, y_train, y_val = train_test_split(X_train_val, y_train_val, test_size=0.2, random_state=42)"
   ]
  },
  {
   "cell_type": "code",
   "execution_count": 41,
   "id": "63c93603",
   "metadata": {},
   "outputs": [
    {
     "name": "stdout",
     "output_type": "stream",
     "text": [
      "Training set size:  23452\n",
      "Validation set size:  5864\n",
      "Test set size:  3258\n"
     ]
    }
   ],
   "source": [
    "# Get size of the dataset\n",
    "print(\"Training set size: \", len(X_train))\n",
    "print(\"Validation set size: \", len(X_val))\n",
    "print(\"Test set size: \", len(X_test))"
   ]
  },
  {
   "cell_type": "code",
   "execution_count": 42,
   "id": "4eb99aa8",
   "metadata": {},
   "outputs": [],
   "source": [
    "# Define models\n",
    "models = {\n",
    "    'Logistic Regression': LogisticRegression(max_iter=100, random_state=42),\n",
    "    'Decision Tree': DecisionTreeClassifier(random_state=42),\n",
    "    'Random Forest': RandomForestClassifier(random_state=42),\n",
    "    'Support Vector Classifier': SVC(probability=True, random_state=42),\n",
    "    'K-Nearest Neighbors': KNeighborsClassifier(n_neighbors=5),\n",
    "    'Naive Bayes': GaussianNB(),\n",
    "    'Stochastic Gradient Descent': SGDClassifier(random_state=42), \n",
    "    'XGBoost': XGBClassifier(random_state=42), \n",
    "    \"AdaBoost\": AdaBoostClassifier(random_state=45),\n",
    "    \"LightGBM\": LGBMClassifier(boosting_type='gbdt', bagging_fraction=0.9, learning_rate=0.05, feature_fraction=0.9, bagging_freq=50, verbosity=-1),\n",
    "    \"Gradient Boosting\": GradientBoostingClassifier(random_state=42), \n",
    "    \"CatBoost\": CatBoostClassifier(verbose=0, random_state=42)\n",
    "}"
   ]
  },
  {
   "cell_type": "code",
   "execution_count": 43,
   "id": "95cb4f88",
   "metadata": {},
   "outputs": [
    {
     "name": "stderr",
     "output_type": "stream",
     "text": [
      "  0%|          | 0/12 [00:00<?, ?it/s]"
     ]
    },
    {
     "name": "stdout",
     "output_type": "stream",
     "text": [
      "Model:  Logistic Regression\n",
      "Accuracy:  0.8219645293315143\n",
      "F1:  0.3433962264150943\n",
      "Precision:  0.48404255319148937\n",
      "Recall:  0.26608187134502925\n",
      "\n",
      "\n",
      "Model:  Decision Tree\n",
      "Accuracy:  0.8221350613915416\n",
      "F1:  0.4987986544930322\n",
      "Precision:  0.4919431279620853\n",
      "Recall:  0.5058479532163743\n",
      "\n",
      "\n"
     ]
    },
    {
     "name": "stderr",
     "output_type": "stream",
     "text": [
      " 25%|██▌       | 3/12 [00:04<00:15,  1.75s/it]"
     ]
    },
    {
     "name": "stdout",
     "output_type": "stream",
     "text": [
      "Model:  Random Forest\n",
      "Accuracy:  0.8257162346521146\n",
      "F1:  0.459830866807611\n",
      "Precision:  0.5023094688221709\n",
      "Recall:  0.4239766081871345\n",
      "\n",
      "\n"
     ]
    },
    {
     "name": "stderr",
     "output_type": "stream",
     "text": [
      " 33%|███▎      | 4/12 [01:13<03:35, 26.95s/it]"
     ]
    },
    {
     "name": "stdout",
     "output_type": "stream",
     "text": [
      "Model:  Support Vector Classifier\n",
      "Accuracy:  0.8221350613915416\n",
      "F1:  0.1000862812769629\n",
      "Precision:  0.43609022556390975\n",
      "Recall:  0.056530214424951264\n",
      "\n",
      "\n"
     ]
    },
    {
     "name": "stderr",
     "output_type": "stream",
     "text": [
      " 58%|█████▊    | 7/12 [01:14<00:44,  8.97s/it]"
     ]
    },
    {
     "name": "stdout",
     "output_type": "stream",
     "text": [
      "Model:  K-Nearest Neighbors\n",
      "Accuracy:  0.820600272851296\n",
      "F1:  0.3811764705882353\n",
      "Precision:  0.4807121661721068\n",
      "Recall:  0.3157894736842105\n",
      "\n",
      "\n",
      "Model:  Naive Bayes\n",
      "Accuracy:  0.8166780354706685\n",
      "F1:  0.39708356702187325\n",
      "Precision:  0.4676354029062087\n",
      "Recall:  0.34502923976608185\n",
      "\n",
      "\n",
      "Model:  Stochastic Gradient Descent\n",
      "Accuracy:  0.8226466575716235\n",
      "F1:  0.32989690721649484\n",
      "Precision:  0.4866920152091255\n",
      "Recall:  0.24951267056530213\n",
      "\n",
      "\n"
     ]
    },
    {
     "name": "stderr",
     "output_type": "stream",
     "text": [
      " 67%|██████▋   | 8/12 [01:14<00:26,  6.68s/it]"
     ]
    },
    {
     "name": "stdout",
     "output_type": "stream",
     "text": [
      "Model:  XGBoost\n",
      "Accuracy:  0.831343792633015\n",
      "F1:  0.4835509138381201\n",
      "Precision:  0.5208098987626547\n",
      "Recall:  0.4512670565302144\n",
      "\n",
      "\n"
     ]
    },
    {
     "name": "stderr",
     "output_type": "stream",
     "text": [
      "c:\\Users\\celin_e3kjw6h\\AppData\\Local\\Programs\\Python\\Python39\\lib\\site-packages\\sklearn\\ensemble\\_weight_boosting.py:519: FutureWarning: The SAMME.R algorithm (the default) is deprecated and will be removed in 1.6. Use the SAMME algorithm to circumvent this warning.\n",
      "  warnings.warn(\n",
      " 75%|███████▌  | 9/12 [01:15<00:15,  5.18s/it]"
     ]
    },
    {
     "name": "stdout",
     "output_type": "stream",
     "text": [
      "Model:  AdaBoost\n",
      "Accuracy:  0.8291268758526603\n",
      "F1:  0.5494604316546763\n",
      "Precision:  0.510016694490818\n",
      "Recall:  0.5955165692007798\n",
      "\n",
      "\n"
     ]
    },
    {
     "name": "stderr",
     "output_type": "stream",
     "text": [
      " 83%|████████▎ | 10/12 [01:16<00:07,  3.89s/it]"
     ]
    },
    {
     "name": "stdout",
     "output_type": "stream",
     "text": [
      "Model:  LightGBM\n",
      "Accuracy:  0.82537517053206\n",
      "F1:  0.47216494845360824\n",
      "Precision:  0.5010940919037199\n",
      "Recall:  0.44639376218323584\n",
      "\n",
      "\n"
     ]
    },
    {
     "name": "stderr",
     "output_type": "stream",
     "text": [
      " 92%|█████████▏| 11/12 [01:19<00:03,  3.77s/it]"
     ]
    },
    {
     "name": "stdout",
     "output_type": "stream",
     "text": [
      "Model:  Gradient Boosting\n",
      "Accuracy:  0.8272510231923602\n",
      "F1:  0.48131080389144903\n",
      "Precision:  0.5070118662351673\n",
      "Recall:  0.4580896686159844\n",
      "\n",
      "\n"
     ]
    },
    {
     "name": "stderr",
     "output_type": "stream",
     "text": [
      "100%|██████████| 12/12 [01:33<00:00,  7.83s/it]"
     ]
    },
    {
     "name": "stdout",
     "output_type": "stream",
     "text": [
      "Model:  CatBoost\n",
      "Accuracy:  0.8308321964529332\n",
      "F1:  0.4773445732349842\n",
      "Precision:  0.5194954128440367\n",
      "Recall:  0.4415204678362573\n",
      "\n",
      "\n"
     ]
    },
    {
     "name": "stderr",
     "output_type": "stream",
     "text": [
      "\n"
     ]
    }
   ],
   "source": [
    "results = []\n",
    "trained_model = {}\n",
    "for name, model in tqdm(models.items()):\n",
    "    # Train the model\n",
    "    model.fit(X_train, y_train)\n",
    "    \n",
    "    # Predict on validation set\n",
    "    y_val_pred = model.predict(X_val)\n",
    "    trained_model[name] = model \n",
    "    print(\"Model: \", name)\n",
    "    print(\"Accuracy: \", accuracy_score(y_val, y_val_pred))\n",
    "    print(\"F1: \", f1_score(y_val, y_val_pred))\n",
    "    print(\"Precision: \", precision_score(y_val, y_val_pred))\n",
    "    print(\"Recall: \", recall_score(y_val, y_val_pred))\n",
    "    print(\"\\n\")"
   ]
  },
  {
   "cell_type": "code",
   "execution_count": 44,
   "id": "360bdd5d",
   "metadata": {},
   "outputs": [],
   "source": [
    "# Define parameter grids for grid search\n",
    "param_rf = {\n",
    "    'n_estimators': [100, 200, 500],\n",
    "    'max_depth': [5, 10, 15],\n",
    "    'min_samples_split': [2, 5, 10],\n",
    "    'min_samples_leaf': [1, 2, 5],\n",
    "    'max_features': ['sqrt', 'log2', None],\n",
    "}\n",
    "param_cat = {\n",
    "    'iterations': [500, 700, 1000],\n",
    "    'learning_rate': [0.01, 0.05, 0.1],\n",
    "    'depth': [4, 6, 8, 10],\n",
    "    'l2_leaf_reg': [1, 3, 5, 7],\n",
    "    'border_count': [32, 64, 128],\n",
    "}\n",
    "param_lgbm = {\n",
    "    'n_estimators': [100, 200, 500],\n",
    "    'learning_rate': [0.01, 0.05, 0.1],\n",
    "    'max_depth': [3, 5, 7],\n",
    "    'num_leaves': [15, 31, 63],\n",
    "    'feature_fraction': [0.6, 0.8, 1.0],\n",
    "    'bagging_fraction': [0.6, 0.8, 1.0],\n",
    "}"
   ]
  },
  {
   "cell_type": "code",
   "execution_count": 45,
   "id": "fd9df540",
   "metadata": {},
   "outputs": [],
   "source": [
    "# GridSearchCV for each model\n",
    "grid_rf = GridSearchCV(\n",
    "    RandomForestClassifier(random_state=42),\n",
    "    param_grid=param_rf,\n",
    "    cv=2,\n",
    "    scoring='recall',\n",
    "    verbose=1,\n",
    "    n_jobs=-1\n",
    ")\n",
    "grid_cat = GridSearchCV(\n",
    "    CatBoostClassifier(verbose=0, random_state=42),\n",
    "    param_grid=param_cat,\n",
    "    cv=2,\n",
    "    scoring='recall',\n",
    "    verbose=1,\n",
    "    n_jobs=-1\n",
    ")\n",
    "grid_lgbm = GridSearchCV(\n",
    "    LGBMClassifier(random_state=42),\n",
    "    param_grid=param_lgbm,\n",
    "    cv=2,\n",
    "    scoring='recall',\n",
    "    verbose=1,\n",
    "    n_jobs=-1\n",
    ")"
   ]
  },
  {
   "cell_type": "code",
   "execution_count": null,
   "id": "51b6d046",
   "metadata": {},
   "outputs": [
    {
     "name": "stdout",
     "output_type": "stream",
     "text": [
      "Fitting 2 folds for each of 243 candidates, totalling 486 fits\n"
     ]
    }
   ],
   "source": [
    "# Fitting the models\n",
    "grid_rf.fit(X_train, y_train)"
   ]
  },
  {
   "cell_type": "code",
   "execution_count": null,
   "id": "df3ae245",
   "metadata": {},
   "outputs": [],
   "source": [
    "grid_cat.fit(X_train, y_train)"
   ]
  },
  {
   "cell_type": "code",
   "execution_count": null,
   "id": "25962b6b",
   "metadata": {},
   "outputs": [],
   "source": [
    "grid_lgbm.fit(X_train, y_train)"
   ]
  },
  {
   "cell_type": "code",
   "execution_count": null,
   "id": "f4fd63ff",
   "metadata": {},
   "outputs": [
    {
     "name": "stdout",
     "output_type": "stream",
     "text": [
      "Unexpected exception formatting exception. Falling back to standard exception\n"
     ]
    },
    {
     "name": "stderr",
     "output_type": "stream",
     "text": [
      "Traceback (most recent call last):\n",
      "  File \"C:\\Users\\celin_e3kjw6h\\AppData\\Roaming\\Python\\Python39\\site-packages\\IPython\\core\\interactiveshell.py\", line 3550, in run_code\n",
      "    exec(code_obj, self.user_global_ns, self.user_ns)\n",
      "  File \"C:\\Users\\celin_e3kjw6h\\AppData\\Local\\Temp\\ipykernel_23316\\235914342.py\", line 3, in <module>\n",
      "    'CatBoost': CatBoostClassifier(**grid_cat.best_params_, verbose=0, random_state=42),\n",
      "AttributeError: 'GridSearchCV' object has no attribute 'best_params_'\n",
      "\n",
      "During handling of the above exception, another exception occurred:\n",
      "\n",
      "Traceback (most recent call last):\n",
      "  File \"C:\\Users\\celin_e3kjw6h\\AppData\\Roaming\\Python\\Python39\\site-packages\\IPython\\core\\interactiveshell.py\", line 2144, in showtraceback\n",
      "    stb = self.InteractiveTB.structured_traceback(\n",
      "  File \"C:\\Users\\celin_e3kjw6h\\AppData\\Roaming\\Python\\Python39\\site-packages\\IPython\\core\\ultratb.py\", line 1435, in structured_traceback\n",
      "    return FormattedTB.structured_traceback(\n",
      "  File \"C:\\Users\\celin_e3kjw6h\\AppData\\Roaming\\Python\\Python39\\site-packages\\IPython\\core\\ultratb.py\", line 1326, in structured_traceback\n",
      "    return VerboseTB.structured_traceback(\n",
      "  File \"C:\\Users\\celin_e3kjw6h\\AppData\\Roaming\\Python\\Python39\\site-packages\\IPython\\core\\ultratb.py\", line 1173, in structured_traceback\n",
      "    formatted_exception = self.format_exception_as_a_whole(etype, evalue, etb, number_of_lines_of_context,\n",
      "  File \"C:\\Users\\celin_e3kjw6h\\AppData\\Roaming\\Python\\Python39\\site-packages\\IPython\\core\\ultratb.py\", line 1088, in format_exception_as_a_whole\n",
      "    frames.append(self.format_record(record))\n",
      "  File \"C:\\Users\\celin_e3kjw6h\\AppData\\Roaming\\Python\\Python39\\site-packages\\IPython\\core\\ultratb.py\", line 970, in format_record\n",
      "    frame_info.lines, Colors, self.has_colors, lvals\n",
      "  File \"C:\\Users\\celin_e3kjw6h\\AppData\\Roaming\\Python\\Python39\\site-packages\\IPython\\core\\ultratb.py\", line 792, in lines\n",
      "    return self._sd.lines\n",
      "  File \"C:\\Users\\celin_e3kjw6h\\AppData\\Roaming\\Python\\Python39\\site-packages\\stack_data\\utils.py\", line 145, in cached_property_wrapper\n",
      "    value = obj.__dict__[self.func.__name__] = self.func(obj)\n",
      "  File \"C:\\Users\\celin_e3kjw6h\\AppData\\Roaming\\Python\\Python39\\site-packages\\stack_data\\core.py\", line 734, in lines\n",
      "    pieces = self.included_pieces\n",
      "  File \"C:\\Users\\celin_e3kjw6h\\AppData\\Roaming\\Python\\Python39\\site-packages\\stack_data\\utils.py\", line 145, in cached_property_wrapper\n",
      "    value = obj.__dict__[self.func.__name__] = self.func(obj)\n",
      "  File \"C:\\Users\\celin_e3kjw6h\\AppData\\Roaming\\Python\\Python39\\site-packages\\stack_data\\core.py\", line 677, in included_pieces\n",
      "    scope_pieces = self.scope_pieces\n",
      "  File \"C:\\Users\\celin_e3kjw6h\\AppData\\Roaming\\Python\\Python39\\site-packages\\stack_data\\utils.py\", line 145, in cached_property_wrapper\n",
      "    value = obj.__dict__[self.func.__name__] = self.func(obj)\n",
      "  File \"C:\\Users\\celin_e3kjw6h\\AppData\\Roaming\\Python\\Python39\\site-packages\\stack_data\\core.py\", line 614, in scope_pieces\n",
      "    scope_start, scope_end = self.source.line_range(self.scope)\n",
      "  File \"C:\\Users\\celin_e3kjw6h\\AppData\\Roaming\\Python\\Python39\\site-packages\\stack_data\\core.py\", line 178, in line_range\n",
      "    return line_range(self.asttext(), node)\n",
      "  File \"C:\\Users\\celin_e3kjw6h\\AppData\\Roaming\\Python\\Python39\\site-packages\\executing\\executing.py\", line 333, in asttext\n",
      "    self._asttext = ASTText(self.text, tree=self.tree, filename=self.filename)\n",
      "  File \"C:\\Users\\celin_e3kjw6h\\AppData\\Roaming\\Python\\Python39\\site-packages\\asttokens\\asttokens.py\", line 305, in __init__\n",
      "    super(ASTText, self).__init__(source_text, filename)\n",
      "  File \"C:\\Users\\celin_e3kjw6h\\AppData\\Roaming\\Python\\Python39\\site-packages\\asttokens\\asttokens.py\", line 47, in __init__\n",
      "    source_text = six.ensure_text(source_text)\n",
      "AttributeError: module 'six' has no attribute 'ensure_text'\n"
     ]
    }
   ],
   "source": [
    "# models = {\n",
    "#     'Random Forest': RandomForestClassifier(**grid_rf.best_params_, random_state=42),\n",
    "#     'CatBoost': CatBoostClassifier(**grid_cat.best_params_, verbose=0, random_state=42),\n",
    "#     \"LightGBM\": LGBMClassifier(**grid_lgbm.best_params_, random_state=42),\n",
    "# }"
   ]
  },
  {
   "cell_type": "code",
   "execution_count": null,
   "id": "0a777c61",
   "metadata": {},
   "outputs": [],
   "source": [
    "# Save all three models\n",
    "def save_model(model, model_name):\n",
    "    joblib.dump(model, f\"models/{model_name}.joblib\")\n",
    "    print(f\"Model {model_name} saved to models/{model_name}.joblib\")\n",
    "# for name, model in models.items():\n",
    "#     # Train the model\n",
    "#     model.fit(X_train, y_train)\n",
    "    \n",
    "#     # Predict on validation set\n",
    "#     y_test_pred = model.predict(X_test)\n",
    "#     print(\"Model: \", name)\n",
    "#     save_model(model, name)\n",
    "#     print(\"\\n\")"
   ]
  },
  {
   "cell_type": "code",
   "execution_count": null,
   "id": "347c0a53",
   "metadata": {},
   "outputs": [
    {
     "name": "stdout",
     "output_type": "stream",
     "text": [
      "Model:  Random Forest\n",
      "Model Random Forest saved to models/Random Forest.joblib\n",
      "\n",
      "\n"
     ]
    }
   ],
   "source": [
    "model = RandomForestClassifier(**grid_rf.best_params_, random_state=42)\n",
    "model.fit(X_train, y_train)\n",
    "\n",
    "# Predict on validation set\n",
    "y_test_pred = model.predict(X_test)\n",
    "print(\"Model: \", \"Random Forest\")\n",
    "save_model(model, \"Random Forest\")\n",
    "print(\"\\n\")"
   ]
  },
  {
   "cell_type": "code",
   "execution_count": null,
   "id": "8ee712b1",
   "metadata": {},
   "outputs": [],
   "source": [
    "models_list = [\"Random Forest\", \"CatBoost\", \"LightGBM\"]"
   ]
  },
  {
   "cell_type": "code",
   "execution_count": null,
   "id": "39c2811b",
   "metadata": {},
   "outputs": [
    {
     "name": "stdout",
     "output_type": "stream",
     "text": [
      "Model Random Forest loaded from models/Random Forest.joblib\n",
      "Model CatBoost loaded from models/CatBoost.joblib\n",
      "Model LightGBM loaded from models/LightGBM.joblib\n"
     ]
    }
   ],
   "source": [
    "# Load the models\n",
    "def load_model(model_name):\n",
    "    model = joblib.load(f\"models/{model_name}.joblib\")\n",
    "    print(f\"Model {model_name} loaded from models/{model_name}.joblib\")\n",
    "    return model\n",
    "loaded_models = {}\n",
    "for name in models_list:\n",
    "    loaded_models[name] = load_model(name)\n",
    "    # Train the model\n",
    "    model.fit(X_train, y_train)\n",
    "    loaded_models[name] = model"
   ]
  },
  {
   "cell_type": "code",
   "execution_count": null,
   "id": "de145c97",
   "metadata": {},
   "outputs": [],
   "source": [
    "def evaluate_models(X, y):\n",
    "    for name, model in loaded_models.items():\n",
    "        y_pred = model.predict(X)\n",
    "        print(\"Model: \", name)\n",
    "        print(\"Accuracy: \", accuracy_score(y, y_pred))\n",
    "        print(\"F1: \", f1_score(y, y_pred))\n",
    "        print(\"Precision: \", precision_score(y, y_pred))\n",
    "        print(\"Recall: \", recall_score(y, y_pred))\n",
    "        print(\"\\n\")"
   ]
  },
  {
   "cell_type": "code",
   "execution_count": null,
   "id": "3ca92488",
   "metadata": {},
   "outputs": [
    {
     "name": "stdout",
     "output_type": "stream",
     "text": [
      "Model:  Random Forest\n",
      "Accuracy:  0.8286152796725784\n",
      "F1:  0.47737909516380655\n",
      "Precision:  0.5117056856187291\n",
      "Recall:  0.4473684210526316\n",
      "\n",
      "\n",
      "Model:  CatBoost\n",
      "Accuracy:  0.8286152796725784\n",
      "F1:  0.47737909516380655\n",
      "Precision:  0.5117056856187291\n",
      "Recall:  0.4473684210526316\n",
      "\n",
      "\n",
      "Model:  LightGBM\n",
      "Accuracy:  0.8286152796725784\n",
      "F1:  0.47737909516380655\n",
      "Precision:  0.5117056856187291\n",
      "Recall:  0.4473684210526316\n",
      "\n",
      "\n"
     ]
    }
   ],
   "source": [
    "evaluate_models(X_val, y_val)"
   ]
  },
  {
   "cell_type": "code",
   "execution_count": null,
   "id": "485607f5",
   "metadata": {},
   "outputs": [
    {
     "name": "stdout",
     "output_type": "stream",
     "text": [
      "Model:  Random Forest\n",
      "Accuracy:  0.8201350521792511\n",
      "F1:  0.4633699633699634\n",
      "Precision:  0.494140625\n",
      "Recall:  0.4362068965517241\n",
      "\n",
      "\n",
      "Model:  CatBoost\n",
      "Accuracy:  0.8201350521792511\n",
      "F1:  0.4633699633699634\n",
      "Precision:  0.494140625\n",
      "Recall:  0.4362068965517241\n",
      "\n",
      "\n",
      "Model:  LightGBM\n",
      "Accuracy:  0.8201350521792511\n",
      "F1:  0.4633699633699634\n",
      "Precision:  0.494140625\n",
      "Recall:  0.4362068965517241\n",
      "\n",
      "\n"
     ]
    }
   ],
   "source": [
    "evaluate_models(X_test, y_test)"
   ]
  },
  {
   "cell_type": "code",
   "execution_count": null,
   "id": "be7fe2f3",
   "metadata": {},
   "outputs": [],
   "source": [
    "# Get classification report\n",
    "def get_classification_report(X, y):\n",
    "    for name, model in loaded_models.items():\n",
    "        y_pred = model.predict(X)\n",
    "        print(\"Model: \", name)\n",
    "        print(\"Classification Report: \\n\", classification_report(y, y_pred))\n",
    "        print(\"\\n\")"
   ]
  },
  {
   "cell_type": "code",
   "execution_count": null,
   "id": "d1b48188",
   "metadata": {},
   "outputs": [
    {
     "name": "stdout",
     "output_type": "stream",
     "text": [
      "Model:  Random Forest\n",
      "Classification Report: \n",
      "               precision    recall  f1-score   support\n",
      "\n",
      "           0       0.89      0.91      0.90      4838\n",
      "           1       0.51      0.45      0.48      1026\n",
      "\n",
      "    accuracy                           0.83      5864\n",
      "   macro avg       0.70      0.68      0.69      5864\n",
      "weighted avg       0.82      0.83      0.82      5864\n",
      "\n",
      "\n",
      "\n",
      "Model:  CatBoost\n",
      "Classification Report: \n",
      "               precision    recall  f1-score   support\n",
      "\n",
      "           0       0.89      0.91      0.90      4838\n",
      "           1       0.51      0.45      0.48      1026\n",
      "\n",
      "    accuracy                           0.83      5864\n",
      "   macro avg       0.70      0.68      0.69      5864\n",
      "weighted avg       0.82      0.83      0.82      5864\n",
      "\n",
      "\n",
      "\n",
      "Model:  LightGBM\n",
      "Classification Report: \n",
      "               precision    recall  f1-score   support\n",
      "\n",
      "           0       0.89      0.91      0.90      4838\n",
      "           1       0.51      0.45      0.48      1026\n",
      "\n",
      "    accuracy                           0.83      5864\n",
      "   macro avg       0.70      0.68      0.69      5864\n",
      "weighted avg       0.82      0.83      0.82      5864\n",
      "\n",
      "\n",
      "\n"
     ]
    }
   ],
   "source": [
    "get_classification_report(X_val, y_val)"
   ]
  },
  {
   "cell_type": "code",
   "execution_count": null,
   "id": "31cdb1fc",
   "metadata": {},
   "outputs": [
    {
     "name": "stdout",
     "output_type": "stream",
     "text": [
      "Model:  Random Forest\n",
      "Classification Report: \n",
      "               precision    recall  f1-score   support\n",
      "\n",
      "           0       0.88      0.90      0.89      2678\n",
      "           1       0.49      0.44      0.46       580\n",
      "\n",
      "    accuracy                           0.82      3258\n",
      "   macro avg       0.69      0.67      0.68      3258\n",
      "weighted avg       0.81      0.82      0.82      3258\n",
      "\n",
      "\n",
      "\n",
      "Model:  CatBoost\n",
      "Classification Report: \n",
      "               precision    recall  f1-score   support\n",
      "\n",
      "           0       0.88      0.90      0.89      2678\n",
      "           1       0.49      0.44      0.46       580\n",
      "\n",
      "    accuracy                           0.82      3258\n",
      "   macro avg       0.69      0.67      0.68      3258\n",
      "weighted avg       0.81      0.82      0.82      3258\n",
      "\n",
      "\n",
      "\n",
      "Model:  LightGBM\n",
      "Classification Report: \n",
      "               precision    recall  f1-score   support\n",
      "\n",
      "           0       0.88      0.90      0.89      2678\n",
      "           1       0.49      0.44      0.46       580\n",
      "\n",
      "    accuracy                           0.82      3258\n",
      "   macro avg       0.69      0.67      0.68      3258\n",
      "weighted avg       0.81      0.82      0.82      3258\n",
      "\n",
      "\n",
      "\n"
     ]
    }
   ],
   "source": [
    "get_classification_report(X_test, y_test)"
   ]
  },
  {
   "cell_type": "code",
   "execution_count": null,
   "id": "de3df2e5",
   "metadata": {},
   "outputs": [
    {
     "data": {
      "image/png": "[encoded data removed]",
      "text/plain": [
       "<Figure size 800x600 with 1 Axes>"
      ]
     },
     "metadata": {},
     "output_type": "display_data"
    },
    {
     "name": "stdout",
     "output_type": "stream",
     "text": [
      "\n",
      "\n"
     ]
    },
    {
     "data": {
      "image/png": "[encoded data removed]",
      "text/plain": [
       "<Figure size 800x600 with 1 Axes>"
      ]
     },
     "metadata": {},
     "output_type": "display_data"
    },
    {
     "name": "stdout",
     "output_type": "stream",
     "text": [
      "\n",
      "\n"
     ]
    },
    {
     "data": {
      "image/png": "[encoded data removed]",
      "text/plain": [
       "<Figure size 800x600 with 1 Axes>"
      ]
     },
     "metadata": {},
     "output_type": "display_data"
    },
    {
     "name": "stdout",
     "output_type": "stream",
     "text": [
      "\n",
      "\n"
     ]
    }
   ],
   "source": [
    "# Plot confusion matrix\n",
    "def plot_confusion_matrix(y_true, y_pred, model_name):\n",
    "    cm = confusion_matrix(y_true, y_pred)\n",
    "    plt.figure(figsize=(8, 6))\n",
    "    sns.heatmap(cm, annot=True, fmt='d', cmap='Blues', cbar=False)\n",
    "    plt.title(f'Confusion Matrix for {model_name}')\n",
    "    plt.xlabel('Predicted')\n",
    "    plt.ylabel('True')\n",
    "    plt.show()\n",
    "    \n",
    "for name, model in loaded_models.items():\n",
    "    y_test_pred = model.predict(X_test)\n",
    "    plot_confusion_matrix(y_test, y_test_pred, name)\n",
    "    print(\"\\n\")"
   ]
  },
  {
   "cell_type": "code",
   "execution_count": null,
   "id": "a800c353",
   "metadata": {},
   "outputs": [],
   "source": [
    "info = {'age': 40, 'income': 55000, 'living': 1, 'employment': 40, 'purpose': 2, 'amount': 15000, 'interest': 4, 'percentage': 10, 'status': 2, 'bank_years': 15}\n",
    "age = info['age']\n",
    "income = info['income']\n",
    "living = info['living']\n",
    "employment = info['employment']\n",
    "purpose = info['purpose']\n",
    "amount = info['amount']\n",
    "interest = info['interest']\n",
    "percentage = info['percentage']/100\n",
    "status = info['status']\n",
    "bank_years = info['bank_years']\n",
    "customer_id = 123456\n",
    "input_data = np.array([[age, income, living, employment, purpose, amount, interest, percentage, status, bank_years]])\n",
    "input_data = scaler.transform(input_data)"
   ]
  },
  {
   "cell_type": "code",
   "execution_count": null,
   "id": "866d7bda",
   "metadata": {},
   "outputs": [],
   "source": [
    "model_name = \"Random Forest\"\n",
    "# Load the model and make predictions here\n",
    "model = joblib.load(f\"models/{model_name}.joblib\")\n",
    "print(f\"Model {model_name} loaded from models/{model_name}.joblib\")\n",
    "print(\"Got information from the form, now predicting...\")\n",
    "prediction = model.predict(input_data)\n",
    "if prediction[0] == 1:\n",
    "    prediction = \"You will default on your loan.\"\n",
    "else:\n",
    "    prediction = \"You will not default on your loan.\"\n",
    "print(f\"Prediction made: {prediction}\")"
   ]
  }
 ],
 "metadata": {
  "kernelspec": {
   "display_name": "Python 3",
   "language": "python",
   "name": "python3"
  },
  "language_info": {
   "codemirror_mode": {
    "name": "ipython",
    "version": 3
   },
   "file_extension": ".py",
   "mimetype": "text/x-python",
   "name": "python",
   "nbconvert_exporter": "python",
   "pygments_lexer": "ipython3",
   "version": "3.9.0"
  }
 },
 "nbformat": 4,
 "nbformat_minor": 5
}

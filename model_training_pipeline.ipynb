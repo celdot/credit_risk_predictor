{
 "cells": [
  {
   "cell_type": "code",
   "execution_count": null,
   "id": "09a2c811",
   "metadata": {},
   "outputs": [],
   "source": [
    "import pandas as pd\n",
    "from sklearn.metrics import confusion_matrix\n",
    "from sklearn.model_selection import train_test_split\n",
    "# packages for hyperparameters tuning\n",
    "from sklearn.model_selection import GridSearchCV\n",
    "import matplotlib.pyplot as plt\n",
    "import seaborn as sns\n",
    "\n",
    "from sklearn.linear_model import LogisticRegression, SGDClassifier\n",
    "from sklearn.tree import DecisionTreeClassifier\n",
    "from sklearn.svm import SVC\n",
    "from sklearn.neighbors import KNeighborsClassifier\n",
    "from sklearn.naive_bayes import GaussianNB\n",
    "from sklearn.ensemble import AdaBoostClassifier\n",
    "from sklearn.ensemble import GradientBoostingClassifier\n",
    "from sklearn.ensemble import RandomForestClassifier\n",
    "from xgboost import XGBClassifier\n",
    "from lightgbm import LGBMClassifier\n",
    "from catboost import CatBoostClassifier\n",
    "from sklearn.metrics import classification_report, accuracy_score, f1_score, precision_score, recall_score\n",
    "from sklearn.preprocessing import StandardScaler\n",
    "\n",
    "import os\n",
    "import numpy as np\n",
    "\n",
    "import joblib"
   ]
  },
  {
   "cell_type": "code",
   "execution_count": 28,
   "id": "84c1732e",
   "metadata": {},
   "outputs": [],
   "source": [
    "dataset = pd.read_csv(\"data/credit_risk_data_processed.csv\")"
   ]
  },
  {
   "cell_type": "code",
   "execution_count": 29,
   "id": "c70bf1f5",
   "metadata": {},
   "outputs": [],
   "source": [
    "# Standardize the data\n",
    "scaler = StandardScaler()\n",
    "X = dataset.drop('default', axis=1)\n",
    "y = dataset['default']\n",
    "X = scaler.fit_transform(X)"
   ]
  },
  {
   "cell_type": "code",
   "execution_count": 30,
   "id": "04c64cce",
   "metadata": {},
   "outputs": [],
   "source": [
    "# Split the dataset into training and testing sets\n",
    "X_train_val, X_test, y_train_val, y_test = train_test_split(X, y, test_size=0.1, random_state=42)\n",
    "X_train, X_val, y_train, y_val = train_test_split(X_train_val, y_train_val, test_size=0.2, random_state=42)"
   ]
  },
  {
   "cell_type": "code",
   "execution_count": 31,
   "id": "63c93603",
   "metadata": {},
   "outputs": [
    {
     "name": "stdout",
     "output_type": "stream",
     "text": [
      "Training set size:  20619\n",
      "Validation set size:  5155\n",
      "Test set size:  2864\n"
     ]
    }
   ],
   "source": [
    "# Get size of the dataset\n",
    "print(\"Training set size: \", len(X_train))\n",
    "print(\"Validation set size: \", len(X_val))\n",
    "print(\"Test set size: \", len(X_test))"
   ]
  },
  {
   "cell_type": "code",
   "execution_count": 32,
   "id": "4eb99aa8",
   "metadata": {},
   "outputs": [],
   "source": [
    "# Define models\n",
    "models = {\n",
    "    'Logistic Regression': LogisticRegression(max_iter=100, random_state=42),\n",
    "    'Decision Tree': DecisionTreeClassifier(random_state=42),\n",
    "    'Random Forest': RandomForestClassifier(random_state=42),\n",
    "    'Support Vector Classifier': SVC(probability=True, random_state=42),\n",
    "    'K-Nearest Neighbors': KNeighborsClassifier(n_neighbors=5),\n",
    "    'Naive Bayes': GaussianNB(),\n",
    "    'Stochastic Gradient Descent': SGDClassifier(random_state=42), \n",
    "    'XGBoost': XGBClassifier(random_state=42), \n",
    "    \"AdaBoost\": AdaBoostClassifier(random_state=45),\n",
    "    \"LightGBM\": LGBMClassifier(boosting_type='gbdt', bagging_fraction=0.9, learning_rate=0.05, feature_fraction=0.9, bagging_freq=50, verbosity=-1),\n",
    "    \"Gradient Boosting\": GradientBoostingClassifier(random_state=42), \n",
    "    \"CatBoost\": CatBoostClassifier(verbose=0, random_state=42)\n",
    "}"
   ]
  },
  {
   "cell_type": "code",
   "execution_count": 33,
   "id": "95cb4f88",
   "metadata": {},
   "outputs": [
    {
     "name": "stdout",
     "output_type": "stream",
     "text": [
      "Model:  Logistic Regression\n",
      "Accuracy:  0.8211445198836081\n",
      "F1:  0.3820375335120643\n",
      "Precision:  0.515370705244123\n",
      "Recall:  0.3035143769968051\n",
      "\n",
      "\n",
      "Model:  Decision Tree\n",
      "Accuracy:  0.826188166828322\n",
      "F1:  0.5289169295478444\n",
      "Precision:  0.5223260643821391\n",
      "Recall:  0.5356762513312034\n",
      "\n",
      "\n",
      "Model:  Random Forest\n",
      "Accuracy:  0.8221144519883609\n",
      "F1:  0.4942084942084942\n",
      "Precision:  0.5125858123569794\n",
      "Recall:  0.47710330138445156\n",
      "\n",
      "\n",
      "Model:  Support Vector Classifier\n",
      "Accuracy:  0.8172647914645975\n",
      "F1:  0.30428360413589367\n",
      "Precision:  0.4963855421686747\n",
      "Recall:  0.21938232161874335\n",
      "\n",
      "\n",
      "Model:  K-Nearest Neighbors\n",
      "Accuracy:  0.8104752667313289\n",
      "F1:  0.4103802051901026\n",
      "Precision:  0.4735376044568245\n",
      "Recall:  0.362087326943557\n",
      "\n",
      "\n",
      "Model:  Naive Bayes\n",
      "Accuracy:  0.817458777885548\n",
      "F1:  0.4632059326868226\n",
      "Precision:  0.4987714987714988\n",
      "Recall:  0.4323748668796592\n",
      "\n",
      "\n",
      "Model:  Stochastic Gradient Descent\n",
      "Accuracy:  0.8193986420950533\n",
      "F1:  0.3521224773834377\n",
      "Precision:  0.5080321285140562\n",
      "Recall:  0.26943556975505856\n",
      "\n",
      "\n",
      "Model:  XGBoost\n",
      "Accuracy:  0.8192046556741028\n",
      "F1:  0.4989247311827957\n",
      "Precision:  0.503800217155266\n",
      "Recall:  0.4941427050053248\n",
      "\n",
      "\n",
      "2025-04-17 12:22:15,114 WARNING: FutureWarning: The SAMME.R algorithm (the default) is deprecated and will be removed in 1.6. Use the SAMME algorithm to circumvent this warning.\n",
      "\n",
      "Model:  AdaBoost\n",
      "Accuracy:  0.8170708050436469\n",
      "F1:  0.5196128374936322\n",
      "Precision:  0.498046875\n",
      "Recall:  0.5431309904153354\n",
      "\n",
      "\n",
      "Model:  LightGBM\n",
      "Accuracy:  0.822890397672163\n",
      "F1:  0.5166754896770778\n",
      "Precision:  0.5136842105263157\n",
      "Recall:  0.5197018104366348\n",
      "\n",
      "\n",
      "Model:  Gradient Boosting\n",
      "Accuracy:  0.8230843840931135\n",
      "F1:  0.5117773019271948\n",
      "Precision:  0.5145317545748116\n",
      "Recall:  0.5090521831735889\n",
      "\n",
      "\n",
      "Model:  CatBoost\n",
      "Accuracy:  0.8230843840931135\n",
      "F1:  0.5107296137339056\n",
      "Precision:  0.5145945945945946\n",
      "Recall:  0.5069222577209798\n",
      "\n",
      "\n"
     ]
    }
   ],
   "source": [
    "results = []\n",
    "trained_model = {}\n",
    "for name, model in models.items():\n",
    "    # Train the model\n",
    "    model.fit(X_train, y_train)\n",
    "    \n",
    "    # Predict on validation set\n",
    "    y_val_pred = model.predict(X_val)\n",
    "    trained_model[name] = model \n",
    "    print(\"Model: \", name)\n",
    "    print(\"Accuracy: \", accuracy_score(y_val, y_val_pred))\n",
    "    print(\"F1: \", f1_score(y_val, y_val_pred))\n",
    "    print(\"Precision: \", precision_score(y_val, y_val_pred))\n",
    "    print(\"Recall: \", recall_score(y_val, y_val_pred))\n",
    "    print(\"\\n\")"
   ]
  },
  {
   "cell_type": "code",
   "execution_count": 34,
   "id": "360bdd5d",
   "metadata": {},
   "outputs": [],
   "source": [
    "# Define parameter grids for grid search\n",
    "param_rf = {\n",
    "    'n_estimators': [100, 200, 500],\n",
    "    'max_depth': [5, 10, 15],\n",
    "    'min_samples_split': [2, 5, 10],\n",
    "    'min_samples_leaf': [1, 2, 5],\n",
    "    'max_features': ['sqrt', 'log2', None],\n",
    "}\n",
    "param_cat = {\n",
    "    'iterations': [500, 700, 1000],\n",
    "    'learning_rate': [0.01, 0.05, 0.1],\n",
    "    'depth': [4, 6, 8, 10],\n",
    "    'l2_leaf_reg': [1, 3, 5, 7],\n",
    "    'border_count': [32, 64, 128],\n",
    "}\n",
    "param_lgbm = {\n",
    "    'n_estimators': [100, 200, 500],\n",
    "    'learning_rate': [0.01, 0.05, 0.1],\n",
    "    'max_depth': [3, 5, 7],\n",
    "    'num_leaves': [15, 31, 63],\n",
    "    'feature_fraction': [0.6, 0.8, 1.0],\n",
    "    'bagging_fraction': [0.6, 0.8, 1.0],\n",
    "}"
   ]
  },
  {
   "cell_type": "code",
   "execution_count": 35,
   "id": "fd9df540",
   "metadata": {},
   "outputs": [],
   "source": [
    "# GridSearchCV for each model\n",
    "grid_rf = GridSearchCV(\n",
    "    RandomForestClassifier(random_state=42),\n",
    "    param_grid=param_rf,\n",
    "    cv=2,\n",
    "    scoring='recall',\n",
    "    verbose=1,\n",
    "    n_jobs=-1\n",
    ")\n",
    "grid_cat = GridSearchCV(\n",
    "    CatBoostClassifier(verbose=0, random_state=42),\n",
    "    param_grid=param_cat,\n",
    "    cv=2,\n",
    "    scoring='recall',\n",
    "    verbose=1,\n",
    "    n_jobs=-1\n",
    ")\n",
    "grid_lgbm = GridSearchCV(\n",
    "    LGBMClassifier(random_state=42),\n",
    "    param_grid=param_lgbm,\n",
    "    cv=2,\n",
    "    scoring='recall',\n",
    "    verbose=1,\n",
    "    n_jobs=-1\n",
    ")"
   ]
  },
  {
   "cell_type": "code",
   "execution_count": 37,
   "id": "51b6d046",
   "metadata": {},
   "outputs": [
    {
     "name": "stdout",
     "output_type": "stream",
     "text": [
      "Fitting 2 folds for each of 243 candidates, totalling 486 fits\n",
      "Unexpected exception formatting exception. Falling back to standard exception\n"
     ]
    },
    {
     "name": "stderr",
     "output_type": "stream",
     "text": [
      "Traceback (most recent call last):\n",
      "  File \"C:\\Users\\celin_e3kjw6h\\AppData\\Roaming\\Python\\Python39\\site-packages\\IPython\\core\\interactiveshell.py\", line 3550, in run_code\n",
      "    exec(code_obj, self.user_global_ns, self.user_ns)\n",
      "  File \"C:\\Users\\celin_e3kjw6h\\AppData\\Local\\Temp\\ipykernel_23728\\3488158326.py\", line 2, in <module>\n",
      "    grid_rf.fit(X_train, y_train)\n",
      "  File \"c:\\Users\\celin_e3kjw6h\\AppData\\Local\\Programs\\Python\\Python39\\lib\\site-packages\\sklearn\\base.py\", line 1474, in wrapper\n",
      "    return fit_method(estimator, *args, **kwargs)\n",
      "  File \"c:\\Users\\celin_e3kjw6h\\AppData\\Local\\Programs\\Python\\Python39\\lib\\site-packages\\sklearn\\model_selection\\_search.py\", line 970, in fit\n",
      "    self._run_search(evaluate_candidates)\n",
      "  File \"c:\\Users\\celin_e3kjw6h\\AppData\\Local\\Programs\\Python\\Python39\\lib\\site-packages\\sklearn\\model_selection\\_search.py\", line 1527, in _run_search\n",
      "    evaluate_candidates(ParameterGrid(self.param_grid))\n",
      "  File \"c:\\Users\\celin_e3kjw6h\\AppData\\Local\\Programs\\Python\\Python39\\lib\\site-packages\\sklearn\\model_selection\\_search.py\", line 916, in evaluate_candidates\n",
      "    out = parallel(\n",
      "  File \"c:\\Users\\celin_e3kjw6h\\AppData\\Local\\Programs\\Python\\Python39\\lib\\site-packages\\sklearn\\utils\\parallel.py\", line 67, in __call__\n",
      "    return super().__call__(iterable_with_config)\n",
      "  File \"c:\\Users\\celin_e3kjw6h\\AppData\\Local\\Programs\\Python\\Python39\\lib\\site-packages\\joblib\\parallel.py\", line 1952, in __call__\n",
      "    return output if self.return_generator else list(output)\n",
      "  File \"c:\\Users\\celin_e3kjw6h\\AppData\\Local\\Programs\\Python\\Python39\\lib\\site-packages\\joblib\\parallel.py\", line 1595, in _get_outputs\n",
      "    yield from self._retrieve()\n",
      "  File \"c:\\Users\\celin_e3kjw6h\\AppData\\Local\\Programs\\Python\\Python39\\lib\\site-packages\\joblib\\parallel.py\", line 1707, in _retrieve\n",
      "    time.sleep(0.01)\n",
      "KeyboardInterrupt\n",
      "\n",
      "During handling of the above exception, another exception occurred:\n",
      "\n",
      "Traceback (most recent call last):\n",
      "  File \"C:\\Users\\celin_e3kjw6h\\AppData\\Roaming\\Python\\Python39\\site-packages\\IPython\\core\\interactiveshell.py\", line 2144, in showtraceback\n",
      "    stb = self.InteractiveTB.structured_traceback(\n",
      "  File \"C:\\Users\\celin_e3kjw6h\\AppData\\Roaming\\Python\\Python39\\site-packages\\IPython\\core\\ultratb.py\", line 1435, in structured_traceback\n",
      "    return FormattedTB.structured_traceback(\n",
      "  File \"C:\\Users\\celin_e3kjw6h\\AppData\\Roaming\\Python\\Python39\\site-packages\\IPython\\core\\ultratb.py\", line 1326, in structured_traceback\n",
      "    return VerboseTB.structured_traceback(\n",
      "  File \"C:\\Users\\celin_e3kjw6h\\AppData\\Roaming\\Python\\Python39\\site-packages\\IPython\\core\\ultratb.py\", line 1173, in structured_traceback\n",
      "    formatted_exception = self.format_exception_as_a_whole(etype, evalue, etb, number_of_lines_of_context,\n",
      "  File \"C:\\Users\\celin_e3kjw6h\\AppData\\Roaming\\Python\\Python39\\site-packages\\IPython\\core\\ultratb.py\", line 1088, in format_exception_as_a_whole\n",
      "    frames.append(self.format_record(record))\n",
      "  File \"C:\\Users\\celin_e3kjw6h\\AppData\\Roaming\\Python\\Python39\\site-packages\\IPython\\core\\ultratb.py\", line 970, in format_record\n",
      "    frame_info.lines, Colors, self.has_colors, lvals\n",
      "  File \"C:\\Users\\celin_e3kjw6h\\AppData\\Roaming\\Python\\Python39\\site-packages\\IPython\\core\\ultratb.py\", line 792, in lines\n",
      "    return self._sd.lines\n",
      "  File \"C:\\Users\\celin_e3kjw6h\\AppData\\Roaming\\Python\\Python39\\site-packages\\stack_data\\utils.py\", line 145, in cached_property_wrapper\n",
      "    value = obj.__dict__[self.func.__name__] = self.func(obj)\n",
      "  File \"C:\\Users\\celin_e3kjw6h\\AppData\\Roaming\\Python\\Python39\\site-packages\\stack_data\\core.py\", line 734, in lines\n",
      "    pieces = self.included_pieces\n",
      "  File \"C:\\Users\\celin_e3kjw6h\\AppData\\Roaming\\Python\\Python39\\site-packages\\stack_data\\utils.py\", line 145, in cached_property_wrapper\n",
      "    value = obj.__dict__[self.func.__name__] = self.func(obj)\n",
      "  File \"C:\\Users\\celin_e3kjw6h\\AppData\\Roaming\\Python\\Python39\\site-packages\\stack_data\\core.py\", line 677, in included_pieces\n",
      "    scope_pieces = self.scope_pieces\n",
      "  File \"C:\\Users\\celin_e3kjw6h\\AppData\\Roaming\\Python\\Python39\\site-packages\\stack_data\\utils.py\", line 145, in cached_property_wrapper\n",
      "    value = obj.__dict__[self.func.__name__] = self.func(obj)\n",
      "  File \"C:\\Users\\celin_e3kjw6h\\AppData\\Roaming\\Python\\Python39\\site-packages\\stack_data\\core.py\", line 614, in scope_pieces\n",
      "    scope_start, scope_end = self.source.line_range(self.scope)\n",
      "  File \"C:\\Users\\celin_e3kjw6h\\AppData\\Roaming\\Python\\Python39\\site-packages\\stack_data\\core.py\", line 178, in line_range\n",
      "    return line_range(self.asttext(), node)\n",
      "  File \"C:\\Users\\celin_e3kjw6h\\AppData\\Roaming\\Python\\Python39\\site-packages\\executing\\executing.py\", line 333, in asttext\n",
      "    self._asttext = ASTText(self.text, tree=self.tree, filename=self.filename)\n",
      "  File \"C:\\Users\\celin_e3kjw6h\\AppData\\Roaming\\Python\\Python39\\site-packages\\asttokens\\asttokens.py\", line 305, in __init__\n",
      "    super(ASTText, self).__init__(source_text, filename)\n",
      "  File \"C:\\Users\\celin_e3kjw6h\\AppData\\Roaming\\Python\\Python39\\site-packages\\asttokens\\asttokens.py\", line 47, in __init__\n",
      "    source_text = six.ensure_text(source_text)\n",
      "AttributeError: module 'six' has no attribute 'ensure_text'\n"
     ]
    }
   ],
   "source": [
    "# Fitting the models\n",
    "grid_rf.fit(X_train, y_train)\n",
    "grid_cat.fit(X_train, y_train)\n",
    "grid_lgbm.fit(X_train, y_train)"
   ]
  },
  {
   "cell_type": "code",
   "execution_count": 39,
   "id": "f4fd63ff",
   "metadata": {},
   "outputs": [
    {
     "name": "stdout",
     "output_type": "stream",
     "text": [
      "Unexpected exception formatting exception. Falling back to standard exception\n"
     ]
    },
    {
     "name": "stderr",
     "output_type": "stream",
     "text": [
      "Traceback (most recent call last):\n",
      "  File \"C:\\Users\\celin_e3kjw6h\\AppData\\Roaming\\Python\\Python39\\site-packages\\IPython\\core\\interactiveshell.py\", line 3550, in run_code\n",
      "    exec(code_obj, self.user_global_ns, self.user_ns)\n",
      "  File \"C:\\Users\\celin_e3kjw6h\\AppData\\Local\\Temp\\ipykernel_23728\\235914342.py\", line 2, in <module>\n",
      "    'Random Forest': RandomForestClassifier(**grid_rf.best_params_, random_state=42),\n",
      "AttributeError: 'GridSearchCV' object has no attribute 'best_params_'\n",
      "\n",
      "During handling of the above exception, another exception occurred:\n",
      "\n",
      "Traceback (most recent call last):\n",
      "  File \"C:\\Users\\celin_e3kjw6h\\AppData\\Roaming\\Python\\Python39\\site-packages\\IPython\\core\\interactiveshell.py\", line 2144, in showtraceback\n",
      "    stb = self.InteractiveTB.structured_traceback(\n",
      "  File \"C:\\Users\\celin_e3kjw6h\\AppData\\Roaming\\Python\\Python39\\site-packages\\IPython\\core\\ultratb.py\", line 1435, in structured_traceback\n",
      "    return FormattedTB.structured_traceback(\n",
      "  File \"C:\\Users\\celin_e3kjw6h\\AppData\\Roaming\\Python\\Python39\\site-packages\\IPython\\core\\ultratb.py\", line 1326, in structured_traceback\n",
      "    return VerboseTB.structured_traceback(\n",
      "  File \"C:\\Users\\celin_e3kjw6h\\AppData\\Roaming\\Python\\Python39\\site-packages\\IPython\\core\\ultratb.py\", line 1173, in structured_traceback\n",
      "    formatted_exception = self.format_exception_as_a_whole(etype, evalue, etb, number_of_lines_of_context,\n",
      "  File \"C:\\Users\\celin_e3kjw6h\\AppData\\Roaming\\Python\\Python39\\site-packages\\IPython\\core\\ultratb.py\", line 1088, in format_exception_as_a_whole\n",
      "    frames.append(self.format_record(record))\n",
      "  File \"C:\\Users\\celin_e3kjw6h\\AppData\\Roaming\\Python\\Python39\\site-packages\\IPython\\core\\ultratb.py\", line 970, in format_record\n",
      "    frame_info.lines, Colors, self.has_colors, lvals\n",
      "  File \"C:\\Users\\celin_e3kjw6h\\AppData\\Roaming\\Python\\Python39\\site-packages\\IPython\\core\\ultratb.py\", line 792, in lines\n",
      "    return self._sd.lines\n",
      "  File \"C:\\Users\\celin_e3kjw6h\\AppData\\Roaming\\Python\\Python39\\site-packages\\stack_data\\utils.py\", line 145, in cached_property_wrapper\n",
      "    value = obj.__dict__[self.func.__name__] = self.func(obj)\n",
      "  File \"C:\\Users\\celin_e3kjw6h\\AppData\\Roaming\\Python\\Python39\\site-packages\\stack_data\\core.py\", line 734, in lines\n",
      "    pieces = self.included_pieces\n",
      "  File \"C:\\Users\\celin_e3kjw6h\\AppData\\Roaming\\Python\\Python39\\site-packages\\stack_data\\utils.py\", line 145, in cached_property_wrapper\n",
      "    value = obj.__dict__[self.func.__name__] = self.func(obj)\n",
      "  File \"C:\\Users\\celin_e3kjw6h\\AppData\\Roaming\\Python\\Python39\\site-packages\\stack_data\\core.py\", line 677, in included_pieces\n",
      "    scope_pieces = self.scope_pieces\n",
      "  File \"C:\\Users\\celin_e3kjw6h\\AppData\\Roaming\\Python\\Python39\\site-packages\\stack_data\\utils.py\", line 145, in cached_property_wrapper\n",
      "    value = obj.__dict__[self.func.__name__] = self.func(obj)\n",
      "  File \"C:\\Users\\celin_e3kjw6h\\AppData\\Roaming\\Python\\Python39\\site-packages\\stack_data\\core.py\", line 614, in scope_pieces\n",
      "    scope_start, scope_end = self.source.line_range(self.scope)\n",
      "  File \"C:\\Users\\celin_e3kjw6h\\AppData\\Roaming\\Python\\Python39\\site-packages\\stack_data\\core.py\", line 178, in line_range\n",
      "    return line_range(self.asttext(), node)\n",
      "  File \"C:\\Users\\celin_e3kjw6h\\AppData\\Roaming\\Python\\Python39\\site-packages\\executing\\executing.py\", line 333, in asttext\n",
      "    self._asttext = ASTText(self.text, tree=self.tree, filename=self.filename)\n",
      "  File \"C:\\Users\\celin_e3kjw6h\\AppData\\Roaming\\Python\\Python39\\site-packages\\asttokens\\asttokens.py\", line 305, in __init__\n",
      "    super(ASTText, self).__init__(source_text, filename)\n",
      "  File \"C:\\Users\\celin_e3kjw6h\\AppData\\Roaming\\Python\\Python39\\site-packages\\asttokens\\asttokens.py\", line 47, in __init__\n",
      "    source_text = six.ensure_text(source_text)\n",
      "AttributeError: module 'six' has no attribute 'ensure_text'\n"
     ]
    }
   ],
   "source": [
    "models = {\n",
    "    'Random Forest': RandomForestClassifier(**grid_rf.best_params_, random_state=42),\n",
    "    'CatBoost': CatBoostClassifier(**grid_cat.best_params_, verbose=0, random_state=42),\n",
    "    \"LightGBM\": LGBMClassifier(**grid_lgbm.best_params_, random_state=42),\n",
    "}"
   ]
  },
  {
   "cell_type": "code",
   "execution_count": null,
   "id": "0a777c61",
   "metadata": {},
   "outputs": [],
   "source": [
    "# Save all three models\n",
    "def save_model(model, model_name):\n",
    "    joblib.dump(model, f\"models/{model_name}.joblib\")\n",
    "    print(f\"Model {model_name} saved to models/{model_name}.joblib\")\n",
    "for name, model in models.items():\n",
    "    # Train the model\n",
    "    model.fit(X_train, y_train)\n",
    "    \n",
    "    # Predict on validation set\n",
    "    y_test_pred = model.predict(X_test)\n",
    "    print(\"Model: \", name)\n",
    "    save_model(model, name)\n",
    "    print(\"\\n\")"
   ]
  },
  {
   "cell_type": "code",
   "execution_count": 40,
   "id": "8ee712b1",
   "metadata": {},
   "outputs": [],
   "source": [
    "models_list = [\"Random Forest\", \"CatBoost\", \"LightGBM\"]"
   ]
  },
  {
   "cell_type": "code",
   "execution_count": 41,
   "id": "39c2811b",
   "metadata": {},
   "outputs": [
    {
     "name": "stdout",
     "output_type": "stream",
     "text": [
      "Model Random Forest loaded from models/Random Forest.joblib\n",
      "Model CatBoost loaded from models/CatBoost.joblib\n",
      "Model LightGBM loaded from models/LightGBM.joblib\n"
     ]
    }
   ],
   "source": [
    "# Load the models\n",
    "def load_model(model_name):\n",
    "    model = joblib.load(f\"models/{model_name}.joblib\")\n",
    "    print(f\"Model {model_name} loaded from models/{model_name}.joblib\")\n",
    "    return model\n",
    "loaded_models = {}\n",
    "for name in models_list:\n",
    "    loaded_models[name] = load_model(name)\n",
    "    # Train the model\n",
    "    model.fit(X_train, y_train)\n",
    "    loaded_models[name] = model"
   ]
  },
  {
   "cell_type": "code",
   "execution_count": 45,
   "id": "74459444",
   "metadata": {},
   "outputs": [],
   "source": [
    "info = {'age': 40, 'income': 55000, 'living': 1, 'employment': 40, 'purpose': 2, 'amount': 15000, 'interest': 4, 'percentage': 10, 'status': 2, 'bank_years': 15}"
   ]
  },
  {
   "cell_type": "code",
   "execution_count": 49,
   "id": "c2a7e5a5",
   "metadata": {},
   "outputs": [
    {
     "name": "stdout",
     "output_type": "stream",
     "text": [
      "2025-04-17 12:33:31,921 WARNING: UserWarning: X does not have valid feature names, but StandardScaler was fitted with feature names\n",
      "\n"
     ]
    }
   ],
   "source": [
    "age = info['age']\n",
    "income = info['income']\n",
    "living = info['living']\n",
    "employment = info['employment']\n",
    "purpose = info['purpose']\n",
    "amount = info['amount']\n",
    "interest = info['interest']\n",
    "percentage = info['percentage']\n",
    "status = info['status']\n",
    "bank_years = info['bank_years']\n",
    "customer_id = 123456\n",
    "input_data = np.array([[customer_id, age, income, living, employment, purpose, amount, interest, percentage, status, bank_years]])\n",
    "input_data = scaler.transform(input_data)"
   ]
  },
  {
   "cell_type": "code",
   "execution_count": 51,
   "id": "9e0d335d",
   "metadata": {},
   "outputs": [
    {
     "name": "stdout",
     "output_type": "stream",
     "text": [
      "Model Random Forest loaded from models/Random Forest.joblib\n",
      "Got information from the form, now predicting...\n",
      "Prediction made: You will not default on your loan.\n"
     ]
    }
   ],
   "source": [
    "model_name = \"Random Forest\"\n",
    "# Load the model and make predictions here\n",
    "model = joblib.load(f\"models/{model_name}.joblib\")\n",
    "print(f\"Model {model_name} loaded from models/{model_name}.joblib\")\n",
    "print(\"Got information from the form, now predicting...\")\n",
    "prediction = model.predict(input_data)\n",
    "if prediction[0] == 1:\n",
    "    prediction = \"You will default on your loan.\"\n",
    "else:\n",
    "    prediction = \"You will not default on your loan.\"\n",
    "print(f\"Prediction made: {prediction}\")"
   ]
  },
  {
   "cell_type": "code",
   "execution_count": 42,
   "id": "de145c97",
   "metadata": {},
   "outputs": [],
   "source": [
    "def evaluate_models(X, y):\n",
    "    for name, model in loaded_models.items():\n",
    "        y_pred = model.predict(X)\n",
    "        print(\"Model: \", name)\n",
    "        print(\"Accuracy: \", accuracy_score(y, y_pred))\n",
    "        print(\"F1: \", f1_score(y, y_pred))\n",
    "        print(\"Precision: \", precision_score(y, y_pred))\n",
    "        print(\"Recall: \", recall_score(y, y_pred))\n",
    "        print(\"\\n\")"
   ]
  },
  {
   "cell_type": "code",
   "execution_count": 43,
   "id": "be7fe2f3",
   "metadata": {},
   "outputs": [],
   "source": [
    "# Get classification report\n",
    "def get_classification_report(X, y):\n",
    "    for name, model in loaded_models.items():\n",
    "        y_pred = model.predict(X)\n",
    "        print(\"Model: \", name)\n",
    "        print(\"Classification Report: \\n\", classification_report(y, y_pred))\n",
    "        print(\"\\n\")"
   ]
  },
  {
   "cell_type": "code",
   "execution_count": 44,
   "id": "de3df2e5",
   "metadata": {},
   "outputs": [
    {
     "data": {
      "image/png": "[encoded data removed]",
      "text/plain": [
       "<Figure size 800x600 with 1 Axes>"
      ]
     },
     "metadata": {},
     "output_type": "display_data"
    },
    {
     "name": "stdout",
     "output_type": "stream",
     "text": [
      "\n",
      "\n"
     ]
    },
    {
     "data": {
      "image/png": "[encoded data removed]",
      "text/plain": [
       "<Figure size 800x600 with 1 Axes>"
      ]
     },
     "metadata": {},
     "output_type": "display_data"
    },
    {
     "name": "stdout",
     "output_type": "stream",
     "text": [
      "\n",
      "\n"
     ]
    },
    {
     "data": {
      "image/png": "[encoded data removed]",
      "text/plain": [
       "<Figure size 800x600 with 1 Axes>"
      ]
     },
     "metadata": {},
     "output_type": "display_data"
    },
    {
     "name": "stdout",
     "output_type": "stream",
     "text": [
      "\n",
      "\n"
     ]
    }
   ],
   "source": [
    "# Plot confusion matrix\n",
    "def plot_confusion_matrix(y_true, y_pred, model_name):\n",
    "    cm = confusion_matrix(y_true, y_pred)\n",
    "    plt.figure(figsize=(8, 6))\n",
    "    sns.heatmap(cm, annot=True, fmt='d', cmap='Blues', cbar=False)\n",
    "    plt.title(f'Confusion Matrix for {model_name}')\n",
    "    plt.xlabel('Predicted')\n",
    "    plt.ylabel('True')\n",
    "    plt.show()\n",
    "    \n",
    "for name, model in loaded_models.items():\n",
    "    y_test_pred = model.predict(X_test)\n",
    "    plot_confusion_matrix(y_test, y_test_pred, name)\n",
    "    print(\"\\n\")"
   ]
  }
 ],
 "metadata": {
  "kernelspec": {
   "display_name": "Python 3",
   "language": "python",
   "name": "python3"
  },
  "language_info": {
   "codemirror_mode": {
    "name": "ipython",
    "version": 3
   },
   "file_extension": ".py",
   "mimetype": "text/x-python",
   "name": "python",
   "nbconvert_exporter": "python",
   "pygments_lexer": "ipython3",
   "version": "3.9.0"
  }
 },
 "nbformat": 4,
 "nbformat_minor": 5
}

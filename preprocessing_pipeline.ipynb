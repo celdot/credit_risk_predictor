{
 "cells": [
  {
   "cell_type": "code",
   "execution_count": 1,
   "id": "8b96794f",
   "metadata": {},
   "outputs": [],
   "source": [
    "import pandas as pd\n",
    "from sklearn.impute import KNNImputer\n",
    "from sklearn import preprocessing"
   ]
  },
  {
   "cell_type": "code",
   "execution_count": 2,
   "id": "b5a797c2",
   "metadata": {},
   "outputs": [],
   "source": [
    "dataset = pd.read_csv(\"data/credit_risk.csv\", sep=\",\")"
   ]
  },
  {
   "cell_type": "code",
   "execution_count": 3,
   "id": "8ca2f7fc",
   "metadata": {},
   "outputs": [
    {
     "name": "stdout",
     "output_type": "stream",
     "text": [
      "<class 'pandas.core.frame.DataFrame'>\n",
      "RangeIndex: 32581 entries, 0 to 32580\n",
      "Data columns (total 12 columns):\n",
      " #   Column          Non-Null Count  Dtype  \n",
      "---  ------          --------------  -----  \n",
      " 0   Id              32581 non-null  int64  \n",
      " 1   Age             32581 non-null  int64  \n",
      " 2   Income          32581 non-null  int64  \n",
      " 3   Home            32581 non-null  object \n",
      " 4   Emp_length      31686 non-null  float64\n",
      " 5   Intent          32581 non-null  object \n",
      " 6   Amount          32581 non-null  int64  \n",
      " 7   Rate            29465 non-null  float64\n",
      " 8   Status          32581 non-null  int64  \n",
      " 9   Percent_income  32581 non-null  float64\n",
      " 10  Default         32581 non-null  object \n",
      " 11  Cred_length     32581 non-null  int64  \n",
      "dtypes: float64(3), int64(6), object(3)\n",
      "memory usage: 3.0+ MB\n"
     ]
    }
   ],
   "source": [
    "dataset.info()"
   ]
  },
  {
   "cell_type": "code",
   "execution_count": 4,
   "id": "c6e58527",
   "metadata": {},
   "outputs": [
    {
     "data": {
      "text/html": [
       "<div>\n",
       "<style scoped>\n",
       "    .dataframe tbody tr th:only-of-type {\n",
       "        vertical-align: middle;\n",
       "    }\n",
       "\n",
       "    .dataframe tbody tr th {\n",
       "        vertical-align: top;\n",
       "    }\n",
       "\n",
       "    .dataframe thead th {\n",
       "        text-align: right;\n",
       "    }\n",
       "</style>\n",
       "<table border=\"1\" class=\"dataframe\">\n",
       "  <thead>\n",
       "    <tr style=\"text-align: right;\">\n",
       "      <th></th>\n",
       "      <th>Id</th>\n",
       "      <th>Age</th>\n",
       "      <th>Income</th>\n",
       "      <th>Home</th>\n",
       "      <th>Emp_length</th>\n",
       "      <th>Intent</th>\n",
       "      <th>Amount</th>\n",
       "      <th>Rate</th>\n",
       "      <th>Status</th>\n",
       "      <th>Percent_income</th>\n",
       "      <th>Default</th>\n",
       "      <th>Cred_length</th>\n",
       "    </tr>\n",
       "  </thead>\n",
       "  <tbody>\n",
       "    <tr>\n",
       "      <th>0</th>\n",
       "      <td>0</td>\n",
       "      <td>22</td>\n",
       "      <td>59000</td>\n",
       "      <td>RENT</td>\n",
       "      <td>123.0</td>\n",
       "      <td>PERSONAL</td>\n",
       "      <td>35000</td>\n",
       "      <td>16.02</td>\n",
       "      <td>1</td>\n",
       "      <td>0.59</td>\n",
       "      <td>Y</td>\n",
       "      <td>3</td>\n",
       "    </tr>\n",
       "    <tr>\n",
       "      <th>1</th>\n",
       "      <td>1</td>\n",
       "      <td>21</td>\n",
       "      <td>9600</td>\n",
       "      <td>OWN</td>\n",
       "      <td>5.0</td>\n",
       "      <td>EDUCATION</td>\n",
       "      <td>1000</td>\n",
       "      <td>11.14</td>\n",
       "      <td>0</td>\n",
       "      <td>0.10</td>\n",
       "      <td>N</td>\n",
       "      <td>2</td>\n",
       "    </tr>\n",
       "    <tr>\n",
       "      <th>2</th>\n",
       "      <td>2</td>\n",
       "      <td>25</td>\n",
       "      <td>9600</td>\n",
       "      <td>MORTGAGE</td>\n",
       "      <td>1.0</td>\n",
       "      <td>MEDICAL</td>\n",
       "      <td>5500</td>\n",
       "      <td>12.87</td>\n",
       "      <td>1</td>\n",
       "      <td>0.57</td>\n",
       "      <td>N</td>\n",
       "      <td>3</td>\n",
       "    </tr>\n",
       "    <tr>\n",
       "      <th>3</th>\n",
       "      <td>3</td>\n",
       "      <td>23</td>\n",
       "      <td>65500</td>\n",
       "      <td>RENT</td>\n",
       "      <td>4.0</td>\n",
       "      <td>MEDICAL</td>\n",
       "      <td>35000</td>\n",
       "      <td>15.23</td>\n",
       "      <td>1</td>\n",
       "      <td>0.53</td>\n",
       "      <td>N</td>\n",
       "      <td>2</td>\n",
       "    </tr>\n",
       "    <tr>\n",
       "      <th>4</th>\n",
       "      <td>4</td>\n",
       "      <td>24</td>\n",
       "      <td>54400</td>\n",
       "      <td>RENT</td>\n",
       "      <td>8.0</td>\n",
       "      <td>MEDICAL</td>\n",
       "      <td>35000</td>\n",
       "      <td>14.27</td>\n",
       "      <td>1</td>\n",
       "      <td>0.55</td>\n",
       "      <td>Y</td>\n",
       "      <td>4</td>\n",
       "    </tr>\n",
       "  </tbody>\n",
       "</table>\n",
       "</div>"
      ],
      "text/plain": [
       "   Id  Age  Income      Home  Emp_length     Intent  Amount   Rate  Status  \\\n",
       "0   0   22   59000      RENT       123.0   PERSONAL   35000  16.02       1   \n",
       "1   1   21    9600       OWN         5.0  EDUCATION    1000  11.14       0   \n",
       "2   2   25    9600  MORTGAGE         1.0    MEDICAL    5500  12.87       1   \n",
       "3   3   23   65500      RENT         4.0    MEDICAL   35000  15.23       1   \n",
       "4   4   24   54400      RENT         8.0    MEDICAL   35000  14.27       1   \n",
       "\n",
       "   Percent_income Default  Cred_length  \n",
       "0            0.59       Y            3  \n",
       "1            0.10       N            2  \n",
       "2            0.57       N            3  \n",
       "3            0.53       N            2  \n",
       "4            0.55       Y            4  "
      ]
     },
     "execution_count": 4,
     "metadata": {},
     "output_type": "execute_result"
    }
   ],
   "source": [
    "dataset.head()"
   ]
  },
  {
   "cell_type": "markdown",
   "id": "2f66ca1d",
   "metadata": {},
   "source": [
    "- ID: Unique identifier for each loan applicant.\n",
    "- Age: Age of the loan applicant.\n",
    "- Income: Income of the loan applicant.\n",
    "- Home: Home ownership status (Own, Mortgage, Rent).\n",
    "- Emp_Length: Employment length in years.\n",
    "- Intent: Purpose of the loan (e.g., education, home improvement).\n",
    "- Amount: Loan amount applied for.\n",
    "- Rate: Interest rate on the loan.\n",
    "- Status: Loan approval status (Fully Paid, Charged Off, Current).\n",
    "- Percent_Income: Loan amount as a percentage of income.\n",
    "- Default: Whether the applicant has defaulted on a loan previously (Yes, No).\n",
    "- Cred_Length: Length of the applicant's credit history."
   ]
  },
  {
   "cell_type": "code",
   "execution_count": 6,
   "id": "46c4a302",
   "metadata": {},
   "outputs": [
    {
     "data": {
      "text/plain": [
       "Default\n",
       "N    26836\n",
       "Y     5745\n",
       "Name: count, dtype: int64"
      ]
     },
     "execution_count": 6,
     "metadata": {},
     "output_type": "execute_result"
    }
   ],
   "source": [
    "# Count number of Y and N\n",
    "dataset['Default'].value_counts()"
   ]
  },
  {
   "cell_type": "code",
   "execution_count": 7,
   "id": "f1e83328",
   "metadata": {},
   "outputs": [
    {
     "name": "stdout",
     "output_type": "stream",
     "text": [
      "Unique intents: ['PERSONAL' 'EDUCATION' 'MEDICAL' 'VENTURE' 'HOMEIMPROVEMENT'\n",
      " 'DEBTCONSOLIDATION']\n"
     ]
    }
   ],
   "source": [
    "# Get unique values from \"intent\" column\n",
    "unique_intents = dataset[\"Intent\"].unique()\n",
    "print(\"Unique intents:\", unique_intents)"
   ]
  },
  {
   "cell_type": "code",
   "execution_count": 8,
   "id": "c4990eb2",
   "metadata": {},
   "outputs": [
    {
     "name": "stdout",
     "output_type": "stream",
     "text": [
      "Index(['id', 'age', 'income', 'home', 'emp_length', 'intent', 'amount', 'rate',\n",
      "       'status', 'percent_income', 'default', 'cred_length'],\n",
      "      dtype='object')\n"
     ]
    }
   ],
   "source": [
    "# Transform the columns to lowercase\n",
    "columns = [col.lower() for col in dataset.columns]\n",
    "dataset.columns = columns\n",
    "columns = dataset.columns\n",
    "print(columns)"
   ]
  },
  {
   "cell_type": "code",
   "execution_count": 9,
   "id": "65267036",
   "metadata": {},
   "outputs": [],
   "source": [
    "def impute_missing_val(X, neighbors=5):     \n",
    "    data = X.copy()     \n",
    "    imputer = KNNImputer(n_neighbors=neighbors)     \n",
    "    data['emp_length'] = imputer.fit_transform(data[['emp_length']])     \n",
    "    data['rate'] = imputer.fit_transform(data[['rate']])     \n",
    "    return data"
   ]
  },
  {
   "cell_type": "code",
   "execution_count": 10,
   "id": "67cdcfc5",
   "metadata": {},
   "outputs": [],
   "source": [
    "dataset = impute_missing_val(dataset, neighbors=5)"
   ]
  },
  {
   "cell_type": "code",
   "execution_count": 11,
   "id": "a0b7d1e6",
   "metadata": {},
   "outputs": [],
   "source": [
    "def drop_outliers(X):     \n",
    "    data = X.copy()     \n",
    "    data = data.drop(data[data['age'] > 100].index)     \n",
    "    data = data.drop(data[data['emp_length'] > 100].index)     \n",
    "    return data"
   ]
  },
  {
   "cell_type": "code",
   "execution_count": 12,
   "id": "3bbfea81",
   "metadata": {},
   "outputs": [],
   "source": [
    "dataset = drop_outliers(dataset)"
   ]
  },
  {
   "cell_type": "code",
   "execution_count": 13,
   "id": "05c3e352",
   "metadata": {},
   "outputs": [],
   "source": [
    "default_mapping = {\n",
    "    \"Y\": 1,\n",
    "    \"N\": 0\n",
    "}\n"
   ]
  },
  {
   "cell_type": "code",
   "execution_count": 14,
   "id": "720a1229",
   "metadata": {},
   "outputs": [],
   "source": [
    "dataset[\"default\"] = dataset[\"default\"].map(default_mapping)"
   ]
  },
  {
   "cell_type": "code",
   "execution_count": 15,
   "id": "cce5050f",
   "metadata": {},
   "outputs": [],
   "source": [
    "encoder = preprocessing.LabelEncoder()\n",
    "levar = {}\n",
    "# Iterate through all categorical columns\n",
    "def encode_cat(data):\n",
    "    for col in data.select_dtypes(include=['object']).columns:\n",
    "        encoder = preprocessing.LabelEncoder()\n",
    "        data[col] = encoder.fit_transform(data[col])  # Perform label encoding\n",
    "        levar[col] = dict(zip(encoder.classes_, encoder.transform(encoder.classes_)))\n",
    "        \n",
    "    return data"
   ]
  },
  {
   "cell_type": "code",
   "execution_count": 16,
   "id": "9821887a",
   "metadata": {},
   "outputs": [],
   "source": [
    "dataset = encode_cat(dataset)"
   ]
  },
  {
   "cell_type": "code",
   "execution_count": 17,
   "id": "2c76a209",
   "metadata": {},
   "outputs": [
    {
     "data": {
      "text/html": [
       "<div>\n",
       "<style scoped>\n",
       "    .dataframe tbody tr th:only-of-type {\n",
       "        vertical-align: middle;\n",
       "    }\n",
       "\n",
       "    .dataframe tbody tr th {\n",
       "        vertical-align: top;\n",
       "    }\n",
       "\n",
       "    .dataframe thead th {\n",
       "        text-align: right;\n",
       "    }\n",
       "</style>\n",
       "<table border=\"1\" class=\"dataframe\">\n",
       "  <thead>\n",
       "    <tr style=\"text-align: right;\">\n",
       "      <th></th>\n",
       "      <th>id</th>\n",
       "      <th>age</th>\n",
       "      <th>income</th>\n",
       "      <th>home</th>\n",
       "      <th>emp_length</th>\n",
       "      <th>intent</th>\n",
       "      <th>amount</th>\n",
       "      <th>rate</th>\n",
       "      <th>status</th>\n",
       "      <th>percent_income</th>\n",
       "      <th>default</th>\n",
       "      <th>cred_length</th>\n",
       "    </tr>\n",
       "  </thead>\n",
       "  <tbody>\n",
       "    <tr>\n",
       "      <th>1</th>\n",
       "      <td>1</td>\n",
       "      <td>21</td>\n",
       "      <td>9600</td>\n",
       "      <td>2</td>\n",
       "      <td>5.0</td>\n",
       "      <td>1</td>\n",
       "      <td>1000</td>\n",
       "      <td>11.14</td>\n",
       "      <td>0</td>\n",
       "      <td>0.10</td>\n",
       "      <td>0</td>\n",
       "      <td>2</td>\n",
       "    </tr>\n",
       "    <tr>\n",
       "      <th>2</th>\n",
       "      <td>2</td>\n",
       "      <td>25</td>\n",
       "      <td>9600</td>\n",
       "      <td>0</td>\n",
       "      <td>1.0</td>\n",
       "      <td>3</td>\n",
       "      <td>5500</td>\n",
       "      <td>12.87</td>\n",
       "      <td>1</td>\n",
       "      <td>0.57</td>\n",
       "      <td>0</td>\n",
       "      <td>3</td>\n",
       "    </tr>\n",
       "    <tr>\n",
       "      <th>3</th>\n",
       "      <td>3</td>\n",
       "      <td>23</td>\n",
       "      <td>65500</td>\n",
       "      <td>3</td>\n",
       "      <td>4.0</td>\n",
       "      <td>3</td>\n",
       "      <td>35000</td>\n",
       "      <td>15.23</td>\n",
       "      <td>1</td>\n",
       "      <td>0.53</td>\n",
       "      <td>0</td>\n",
       "      <td>2</td>\n",
       "    </tr>\n",
       "    <tr>\n",
       "      <th>4</th>\n",
       "      <td>4</td>\n",
       "      <td>24</td>\n",
       "      <td>54400</td>\n",
       "      <td>3</td>\n",
       "      <td>8.0</td>\n",
       "      <td>3</td>\n",
       "      <td>35000</td>\n",
       "      <td>14.27</td>\n",
       "      <td>1</td>\n",
       "      <td>0.55</td>\n",
       "      <td>1</td>\n",
       "      <td>4</td>\n",
       "    </tr>\n",
       "    <tr>\n",
       "      <th>5</th>\n",
       "      <td>5</td>\n",
       "      <td>21</td>\n",
       "      <td>9900</td>\n",
       "      <td>2</td>\n",
       "      <td>2.0</td>\n",
       "      <td>5</td>\n",
       "      <td>2500</td>\n",
       "      <td>7.14</td>\n",
       "      <td>1</td>\n",
       "      <td>0.25</td>\n",
       "      <td>0</td>\n",
       "      <td>2</td>\n",
       "    </tr>\n",
       "  </tbody>\n",
       "</table>\n",
       "</div>"
      ],
      "text/plain": [
       "   id  age  income  home  emp_length  intent  amount   rate  status  \\\n",
       "1   1   21    9600     2         5.0       1    1000  11.14       0   \n",
       "2   2   25    9600     0         1.0       3    5500  12.87       1   \n",
       "3   3   23   65500     3         4.0       3   35000  15.23       1   \n",
       "4   4   24   54400     3         8.0       3   35000  14.27       1   \n",
       "5   5   21    9900     2         2.0       5    2500   7.14       1   \n",
       "\n",
       "   percent_income  default  cred_length  \n",
       "1            0.10        0            2  \n",
       "2            0.57        0            3  \n",
       "3            0.53        0            2  \n",
       "4            0.55        1            4  \n",
       "5            0.25        0            2  "
      ]
     },
     "execution_count": 17,
     "metadata": {},
     "output_type": "execute_result"
    }
   ],
   "source": [
    "dataset.head()"
   ]
  },
  {
   "cell_type": "code",
   "execution_count": 18,
   "id": "7a5461cf",
   "metadata": {},
   "outputs": [
    {
     "name": "stdout",
     "output_type": "stream",
     "text": [
      "<class 'pandas.core.frame.DataFrame'>\n",
      "Index: 32574 entries, 1 to 32580\n",
      "Data columns (total 12 columns):\n",
      " #   Column          Non-Null Count  Dtype  \n",
      "---  ------          --------------  -----  \n",
      " 0   id              32574 non-null  int64  \n",
      " 1   age             32574 non-null  int64  \n",
      " 2   income          32574 non-null  int64  \n",
      " 3   home            32574 non-null  int32  \n",
      " 4   emp_length      32574 non-null  float64\n",
      " 5   intent          32574 non-null  int32  \n",
      " 6   amount          32574 non-null  int64  \n",
      " 7   rate            32574 non-null  float64\n",
      " 8   status          32574 non-null  int64  \n",
      " 9   percent_income  32574 non-null  float64\n",
      " 10  default         32574 non-null  int64  \n",
      " 11  cred_length     32574 non-null  int64  \n",
      "dtypes: float64(3), int32(2), int64(7)\n",
      "memory usage: 3.0 MB\n"
     ]
    }
   ],
   "source": [
    "dataset.info()"
   ]
  },
  {
   "cell_type": "code",
   "execution_count": 19,
   "id": "ff3d9f58",
   "metadata": {},
   "outputs": [],
   "source": [
    "# Save the dataset to a CSV file\n",
    "dataset.to_csv(\"data/credit_risk_data_processed.csv\", index=False)"
   ]
  },
  {
   "cell_type": "code",
   "execution_count": 20,
   "id": "eda9db51",
   "metadata": {},
   "outputs": [
    {
     "data": {
      "text/plain": [
       "default\n",
       "0    26830\n",
       "1     5744\n",
       "Name: count, dtype: int64"
      ]
     },
     "execution_count": 20,
     "metadata": {},
     "output_type": "execute_result"
    }
   ],
   "source": [
    "# Count number of Y and N\n",
    "dataset['default'].value_counts()"
   ]
  }
 ],
 "metadata": {
  "kernelspec": {
   "display_name": "Python 3",
   "language": "python",
   "name": "python3"
  },
  "language_info": {
   "codemirror_mode": {
    "name": "ipython",
    "version": 3
   },
   "file_extension": ".py",
   "mimetype": "text/x-python",
   "name": "python",
   "nbconvert_exporter": "python",
   "pygments_lexer": "ipython3",
   "version": "3.9.0"
  }
 },
 "nbformat": 4,
 "nbformat_minor": 5
}
